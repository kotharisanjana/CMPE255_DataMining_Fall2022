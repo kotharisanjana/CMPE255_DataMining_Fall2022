{
  "nbformat": 4,
  "nbformat_minor": 0,
  "metadata": {
    "colab": {
      "provenance": [],
      "collapsed_sections": [],
      "authorship_tag": "ABX9TyPdh4v2CAkZa92N8TKIAV/e",
      "include_colab_link": true
    },
    "kernelspec": {
      "name": "python3",
      "display_name": "Python 3"
    },
    "language_info": {
      "name": "python"
    }
  },
  "cells": [
    {
      "cell_type": "markdown",
      "metadata": {
        "id": "view-in-github",
        "colab_type": "text"
      },
      "source": [
        "<a href=\"https://colab.research.google.com/github/kotharisanjana/CMPE255_DataMining_Fall2022/blob/main/DerekBanas_Python_Tutorial.ipynb\" target=\"_parent\"><img src=\"https://colab.research.google.com/assets/colab-badge.svg\" alt=\"Open In Colab\"/></a>"
      ]
    },
    {
      "cell_type": "markdown",
      "source": [
        "#### Imports"
      ],
      "metadata": {
        "id": "8JFIQ6LhdwAd"
      }
    },
    {
      "cell_type": "code",
      "execution_count": null,
      "metadata": {
        "id": "HgMeWdkbD0Lg"
      },
      "outputs": [],
      "source": [
        "import sys\n",
        "import random"
      ]
    },
    {
      "cell_type": "markdown",
      "source": [
        "#### Print to console"
      ],
      "metadata": {
        "id": "1wjLqeoBd214"
      }
    },
    {
      "cell_type": "code",
      "source": [
        "print('Hello World')"
      ],
      "metadata": {
        "colab": {
          "base_uri": "https://localhost:8080/"
        },
        "id": "vFGHodPoHT5O",
        "outputId": "56973802-c7ca-4f06-81a2-7fdeeeefbb3a"
      },
      "execution_count": null,
      "outputs": [
        {
          "output_type": "stream",
          "name": "stdout",
          "text": [
            "Hello World\n"
          ]
        }
      ]
    },
    {
      "cell_type": "markdown",
      "source": [
        "#### Asigning variables"
      ],
      "metadata": {
        "id": "7jiOzU8Bd8Pn"
      }
    },
    {
      "cell_type": "code",
      "source": [
        "name = 'Sanjana'\n",
        "print(name)"
      ],
      "metadata": {
        "colab": {
          "base_uri": "https://localhost:8080/"
        },
        "id": "QNaLd4fpHcWR",
        "outputId": "c6c5f8e0-9b02-467e-ffd9-047dd6b1b966"
      },
      "execution_count": null,
      "outputs": [
        {
          "output_type": "stream",
          "name": "stdout",
          "text": [
            "Sanjana\n"
          ]
        }
      ]
    },
    {
      "cell_type": "markdown",
      "source": [
        "### Arithmetic operations"
      ],
      "metadata": {
        "id": "CnUo75S4eDUv"
      }
    },
    {
      "cell_type": "code",
      "source": [
        "print('5 + 2 =', 5 + 2)\n",
        "print('5 - 2 =', 5 - 2)\n",
        "print('5 * 2 =', 5 * 2)\n",
        "print('5 / 2 =', 5 / 2)\n",
        "print('5 % 2 =', 5 % 2)\n",
        "print('5 ** 2 =', 5 ** 2)\n",
        "print('5 // 2 =', 5 // 2)"
      ],
      "metadata": {
        "colab": {
          "base_uri": "https://localhost:8080/"
        },
        "id": "Z770uAa_HpeV",
        "outputId": "7ec75184-ee0b-4598-cbec-46c956bde96f"
      },
      "execution_count": null,
      "outputs": [
        {
          "output_type": "stream",
          "name": "stdout",
          "text": [
            "5 + 2 = 7\n",
            "5 - 2 = 3\n",
            "5 * 2 = 10\n",
            "5 / 2 = 2.5\n",
            "5 % 2 = 1\n",
            "5 ** 2 = 25\n",
            "5 // 2 = 2\n"
          ]
        }
      ]
    },
    {
      "cell_type": "code",
      "source": [
        "print('1 + 2 - 3 * 2 = ', 1 + 2 - 3 * 2)\n",
        "print('(1 + 2 - 3) * 2 = ', (1 + 2 - 3) * 2)"
      ],
      "metadata": {
        "colab": {
          "base_uri": "https://localhost:8080/"
        },
        "id": "K9lMX1IuH3t7",
        "outputId": "607e0305-bba7-40ae-d9a7-66adfeec348a"
      },
      "execution_count": null,
      "outputs": [
        {
          "output_type": "stream",
          "name": "stdout",
          "text": [
            "1 + 2 - 3 * 2 =  -3\n",
            "(1 + 2 - 3) * 2 =  0\n"
          ]
        }
      ]
    },
    {
      "cell_type": "markdown",
      "source": [
        "#### Single and multiline strings"
      ],
      "metadata": {
        "id": "WcZe6rP2eIeJ"
      }
    },
    {
      "cell_type": "code",
      "source": [
        "quote = '\\'Always remember you are unique'\n",
        "\n",
        "multiline_quote = '''just\n",
        "like everyone else'''\n",
        "\n",
        "print('%s %s %s' % ('I like the quote', quote, multiline_quote))\n",
        "\n",
        "#Empty/new line\n",
        "print('\\n' * 5)\n",
        "\n",
        "print('I don\\'t like ', end = '')\n",
        "print('newlines')"
      ],
      "metadata": {
        "colab": {
          "base_uri": "https://localhost:8080/"
        },
        "id": "91Upkwq_IipD",
        "outputId": "d83638e0-bf6f-4cca-8bbe-c92194b3b65d"
      },
      "execution_count": null,
      "outputs": [
        {
          "output_type": "stream",
          "name": "stdout",
          "text": [
            "I like the quote 'Always remember you are unique just\n",
            "like everyone else\n",
            "\n",
            "\n",
            "\n",
            "\n",
            "\n",
            "\n",
            "I don't like newlines\n"
          ]
        }
      ]
    },
    {
      "cell_type": "markdown",
      "source": [
        "#### Lists"
      ],
      "metadata": {
        "id": "J2XNVQLweNAX"
      }
    },
    {
      "cell_type": "code",
      "source": [
        "grocery_list = ['Onions', 'Juice', 'Tomatoes', 'Noodles']\n",
        "print('First item', grocery_list[0])\n",
        "grocery_list[0] = 'Rice'\n",
        "\n",
        "print(grocery_list[1:3])\n",
        "\n",
        "other_list = ['Wash car', 'Cash check', 'Cook food']\n",
        "to_do_list = [grocery_list, other_list]\n",
        "print(to_do_list)\n",
        "\n",
        "print(to_do_list[1][1])\n",
        "\n",
        "grocery_list.append('Onions')\n",
        "print(to_do_list)\n",
        "\n",
        "grocery_list.insert(0, 'Pickles')\n",
        "\n",
        "grocery_list.remove('Noodles')\n",
        "\n",
        "grocery_list.sort()\n",
        "\n",
        "grocery_list.reverse()\n",
        "\n",
        "del grocery_list[2]\n",
        "\n",
        "print(to_do_list)\n",
        "\n",
        "to_do_list2 = other_list + grocery_list\n",
        "\n",
        "print(len(to_do_list2))\n",
        "print(max(to_do_list2))\n",
        "print(min(to_do_list2))"
      ],
      "metadata": {
        "colab": {
          "base_uri": "https://localhost:8080/"
        },
        "id": "boe9IbZtJjYl",
        "outputId": "382b9bd7-3249-447a-e2b5-5119cb3fa081"
      },
      "execution_count": null,
      "outputs": [
        {
          "output_type": "stream",
          "name": "stdout",
          "text": [
            "First item Onions\n",
            "['Juice', 'Tomatoes']\n",
            "[['Rice', 'Juice', 'Tomatoes', 'Noodles'], ['Wash car', 'Cash check', 'Cook food']]\n",
            "Cash check\n",
            "[['Rice', 'Juice', 'Tomatoes', 'Noodles', 'Onions'], ['Wash car', 'Cash check', 'Cook food']]\n",
            "[['Tomatoes', 'Rice', 'Onions', 'Juice'], ['Wash car', 'Cash check', 'Cook food']]\n",
            "7\n",
            "Wash car\n",
            "Cash check\n"
          ]
        }
      ]
    },
    {
      "cell_type": "markdown",
      "source": [
        "#### Tuples"
      ],
      "metadata": {
        "id": "sa3yB3v4eRO0"
      }
    },
    {
      "cell_type": "code",
      "source": [
        "pi_tuple = (3,1,4,1,5,9)\n",
        "new_list = list(pi_tuple)\n",
        "new_tuple = tuple(new_list)\n",
        "\n",
        "print(len(new_tuple))\n",
        "print(min(new_tuple))\n",
        "print(max(new_tuple))\n",
        "\n",
        "len(new_tuple), min(new_tuple), max(new_tuple)"
      ],
      "metadata": {
        "colab": {
          "base_uri": "https://localhost:8080/"
        },
        "id": "nB30FyBBLFYx",
        "outputId": "9d14bcdd-91f9-4be6-ffb8-3ad5d0be1581"
      },
      "execution_count": null,
      "outputs": [
        {
          "output_type": "stream",
          "name": "stdout",
          "text": [
            "6\n",
            "1\n",
            "9\n"
          ]
        },
        {
          "output_type": "execute_result",
          "data": {
            "text/plain": [
              "(6, 1, 9)"
            ]
          },
          "metadata": {},
          "execution_count": 106
        }
      ]
    },
    {
      "cell_type": "markdown",
      "source": [
        "#### Dictionary"
      ],
      "metadata": {
        "id": "GrqycQ4IeUBM"
      }
    },
    {
      "cell_type": "code",
      "source": [
        "heroes = {\n",
        "    'Superman': 'Clark Kent',\n",
        "    'Batman': 'Bruce Wayne',\n",
        "    'Spiderman': 'Tobey Maguire'\n",
        "}\n",
        "\n",
        "print(heroes['Superman'])\n",
        "del heroes['Batman']\n",
        "heroes['Spiderman'] = 'Tom Holland'\n",
        "print(len(heroes))\n",
        "print(heroes.get('Spiderman'))\n",
        "print(heroes.keys())\n",
        "print(heroes.values())"
      ],
      "metadata": {
        "colab": {
          "base_uri": "https://localhost:8080/"
        },
        "id": "PdzcF-rEMHAk",
        "outputId": "75ff9e13-b0f3-4a96-a468-9aa647c41423"
      },
      "execution_count": null,
      "outputs": [
        {
          "output_type": "stream",
          "name": "stdout",
          "text": [
            "Clark Kent\n",
            "2\n",
            "Tom Holland\n",
            "dict_keys(['Superman', 'Spiderman'])\n",
            "dict_values(['Clark Kent', 'Tom Holland'])\n"
          ]
        }
      ]
    },
    {
      "cell_type": "markdown",
      "source": [
        "#### If-else"
      ],
      "metadata": {
        "id": "DtwobuyEeZd7"
      }
    },
    {
      "cell_type": "code",
      "source": [
        "age = 30\n",
        "if age > 21:\n",
        "    print('You can drive a tractor trailer')\n",
        "elif age >= 16:\n",
        "    print('You can drive a car')\n",
        "else:\n",
        "    print('You can\\'t drive')\n",
        "\n",
        "\n",
        "if age < 5:\n",
        "    print('Stay Home')\n",
        "elif (age >= 5) and (age <= 6):\n",
        "    print('Kindergarten')\n",
        "elif (age > 6) and (age <= 17):\n",
        "    print('Grade %d', (age - 5))\n",
        "else:\n",
        "    print('College')"
      ],
      "metadata": {
        "colab": {
          "base_uri": "https://localhost:8080/"
        },
        "id": "7Jnv0biwNin7",
        "outputId": "d42c2034-76ff-4183-f07f-d99891fb70f8"
      },
      "execution_count": null,
      "outputs": [
        {
          "output_type": "stream",
          "name": "stdout",
          "text": [
            "You can drive a tractor trailer\n",
            "College\n"
          ]
        }
      ]
    },
    {
      "cell_type": "markdown",
      "source": [
        "#### For loop"
      ],
      "metadata": {
        "id": "El4iOIcAecTn"
      }
    },
    {
      "cell_type": "code",
      "source": [
        "for x in range(0, 10):\n",
        "    print(x, ' ', end='')\n",
        "print('\\n')\n",
        "\n",
        "for item in grocery_list:\n",
        "  print(item)\n",
        "\n",
        "for x in [2, 4, 6]:\n",
        "    print(x)\n",
        "\n",
        "num_list = [[1, 2, 3], [10, 20, 30], [100, 200, 300]]\n",
        "for x in range(3):\n",
        "  for y in range(3):\n",
        "    print(num_list[x][y])"
      ],
      "metadata": {
        "colab": {
          "base_uri": "https://localhost:8080/"
        },
        "id": "3Jua7DgnOTqN",
        "outputId": "65f9cb0c-0d70-4515-d914-9cea38f58834"
      },
      "execution_count": null,
      "outputs": [
        {
          "output_type": "stream",
          "name": "stdout",
          "text": [
            "0  1  2  3  4  5  6  7  8  9  \n",
            "\n",
            "Tomatoes\n",
            "Rice\n",
            "Onions\n",
            "Juice\n",
            "2\n",
            "4\n",
            "6\n",
            "1\n",
            "2\n",
            "3\n",
            "10\n",
            "20\n",
            "30\n",
            "100\n",
            "200\n",
            "300\n"
          ]
        }
      ]
    },
    {
      "cell_type": "markdown",
      "source": [
        "#### While loop\n"
      ],
      "metadata": {
        "id": "hCiCbN72efHm"
      }
    },
    {
      "cell_type": "code",
      "source": [
        "random_num = random.randrange(0, 100)\n",
        "while random_num != 15:\n",
        "  print(random_num)\n",
        "  random_num = random.randrange(0, 100)"
      ],
      "metadata": {
        "colab": {
          "base_uri": "https://localhost:8080/"
        },
        "id": "0yc5MwZnOzu2",
        "outputId": "54314cc9-7745-40c8-9d7d-465baf17176f"
      },
      "execution_count": null,
      "outputs": [
        {
          "output_type": "stream",
          "name": "stdout",
          "text": [
            "3\n",
            "66\n",
            "63\n",
            "99\n",
            "64\n",
            "74\n",
            "82\n",
            "34\n",
            "38\n",
            "18\n",
            "30\n",
            "97\n",
            "38\n",
            "32\n",
            "65\n",
            "91\n",
            "73\n",
            "10\n",
            "2\n",
            "44\n",
            "66\n",
            "22\n",
            "52\n",
            "32\n",
            "84\n",
            "51\n",
            "41\n",
            "27\n",
            "8\n",
            "23\n",
            "84\n",
            "18\n",
            "40\n",
            "86\n",
            "60\n",
            "19\n",
            "67\n",
            "28\n",
            "20\n",
            "50\n",
            "43\n",
            "42\n",
            "83\n",
            "36\n",
            "33\n",
            "65\n",
            "51\n",
            "94\n",
            "41\n",
            "57\n",
            "91\n",
            "55\n",
            "71\n",
            "10\n",
            "23\n",
            "23\n",
            "44\n",
            "80\n"
          ]
        }
      ]
    },
    {
      "cell_type": "markdown",
      "source": [
        "####If-else ladder"
      ],
      "metadata": {
        "id": "imdQD_QFekvv"
      }
    },
    {
      "cell_type": "code",
      "source": [
        "w2 = 0\n",
        "while w2 <= 20:\n",
        "    if w2 % 2 == 0:\n",
        "        print(w2)\n",
        "    elif w2 == 9:\n",
        "        break\n",
        "    else:\n",
        "        w2 += 1\n",
        "        continue\n",
        "    w2 += 1"
      ],
      "metadata": {
        "colab": {
          "base_uri": "https://localhost:8080/"
        },
        "id": "kiqaVpjEPSlC",
        "outputId": "f3f80687-8d36-4669-d7ce-a1d4edbf43e6"
      },
      "execution_count": null,
      "outputs": [
        {
          "output_type": "stream",
          "name": "stdout",
          "text": [
            "0\n",
            "2\n",
            "4\n",
            "6\n",
            "8\n"
          ]
        }
      ]
    },
    {
      "cell_type": "markdown",
      "source": [
        "####Functions"
      ],
      "metadata": {
        "id": "GbO_FocaerZE"
      }
    },
    {
      "cell_type": "code",
      "source": [
        "def get_sum(num1, num2):\n",
        "  sum_num = num1 + num2\n",
        "  return sum_num \n",
        "\n",
        "print(get_sum(5, 4))"
      ],
      "metadata": {
        "colab": {
          "base_uri": "https://localhost:8080/"
        },
        "id": "i3iTvPElPn89",
        "outputId": "8859a935-81e1-443e-f62c-83516c628d81"
      },
      "execution_count": null,
      "outputs": [
        {
          "output_type": "stream",
          "name": "stdout",
          "text": [
            "9\n"
          ]
        }
      ]
    },
    {
      "cell_type": "markdown",
      "source": [
        "####Reading user input from console"
      ],
      "metadata": {
        "id": "uJVYPdgJetu4"
      }
    },
    {
      "cell_type": "code",
      "source": [
        "name = input('What is your name? ')\n",
        "print('Hi ', name)"
      ],
      "metadata": {
        "colab": {
          "base_uri": "https://localhost:8080/"
        },
        "id": "-txDncD6P1nV",
        "outputId": "6727f122-4008-4548-e173-ff364bcdd1fa"
      },
      "execution_count": null,
      "outputs": [
        {
          "output_type": "stream",
          "name": "stdout",
          "text": [
            "What is your name Sanjana\n",
            "Hi  Sanjana\n"
          ]
        }
      ]
    },
    {
      "cell_type": "markdown",
      "source": [
        "####Strings"
      ],
      "metadata": {
        "id": "8R05Ic-NewCL"
      }
    },
    {
      "cell_type": "code",
      "source": [
        "long_string = 'I\\'ll catch you if you fall - The Floor  '\n",
        "\n",
        "print(long_string[0:4])\n",
        "print(long_string[-5:])\n",
        "print(long_string[:-5])\n",
        "print(long_string[0:4] + ' be there')\n",
        "print('\\nString Formatting : %04d %s %.2f %c' % (1, 'Hello', 1.234, 'A'))\n",
        "print(long_string.capitalize())\n",
        "print(long_string.find('Floor'))\n",
        "print(long_string.isalpha())\n",
        "print(long_string.isalnum())\n",
        "print(len(long_string))\n",
        "print(long_string.replace('Floor', 'Ground'))\n",
        "print(long_string.strip())\n",
        "\n",
        "lis = long_string.split(' ')\n",
        "print(lis)"
      ],
      "metadata": {
        "colab": {
          "base_uri": "https://localhost:8080/"
        },
        "id": "dZrqc20RQGqq",
        "outputId": "4c738ba8-13f2-4e40-cd0f-215ac4ab22f6"
      },
      "execution_count": null,
      "outputs": [
        {
          "output_type": "stream",
          "name": "stdout",
          "text": [
            "I'll\n",
            "oor  \n",
            "I'll catch you if you fall - The Fl\n",
            "I'll be there\n",
            "\n",
            "String Formatting : 0001 Hello 1.23 A\n",
            "I'll catch you if you fall - the floor  \n",
            "33\n",
            "False\n",
            "False\n",
            "40\n",
            "I'll catch you if you fall - The Ground  \n",
            "I'll catch you if you fall - The Floor\n",
            "[\"I'll\", 'catch', 'you', 'if', 'you', 'fall', '-', 'The', 'Floor', '', '']\n"
          ]
        }
      ]
    },
    {
      "cell_type": "markdown",
      "source": [
        "#### File operations"
      ],
      "metadata": {
        "id": "9emyNdIsezYB"
      }
    },
    {
      "cell_type": "code",
      "source": [
        "test_file = open('test.txt', 'wb')\n",
        "print(test_file.name)\n",
        "print(test_file.mode)\n",
        "test_file.write(bytes('write me to file\\n', 'UTF-8'))\n",
        "test_file.close()\n",
        "\n",
        "test_file = open('test.txt', 'r+')\n",
        "text = test_file.read()\n",
        "print(text)\n",
        "print(test_file.closed)"
      ],
      "metadata": {
        "colab": {
          "base_uri": "https://localhost:8080/"
        },
        "id": "Kxj0hZ_yQtBU",
        "outputId": "59b5b545-34e3-4c78-fcee-1687ddc87430"
      },
      "execution_count": null,
      "outputs": [
        {
          "output_type": "stream",
          "name": "stdout",
          "text": [
            "test.txt\n",
            "wb\n",
            "write me to file\n",
            "\n",
            "False\n"
          ]
        }
      ]
    },
    {
      "cell_type": "markdown",
      "source": [
        "#### Encapsulation"
      ],
      "metadata": {
        "id": "1sCeJX6fe2I3"
      }
    },
    {
      "cell_type": "code",
      "source": [
        "class Animal:\n",
        "  #private variables\n",
        "  __name = ''\n",
        "  __weight = 0\n",
        "  __height = 0\n",
        "  __sound = ''\n",
        "\n",
        "  def __init__(self, name, weight, height, sound):\n",
        "    self.__name = name\n",
        "    self.__weight = weight\n",
        "    self.__height = height\n",
        "    self.__sound = sound\n",
        "\n",
        "  #setters and getters to access and modify private variables\n",
        "  def set_name(self, name):\n",
        "    self.__name = name\n",
        "\n",
        "  def get_name(self):\n",
        "    return self.__name\n",
        "\n",
        "  def set_height(self, height):\n",
        "    self.__height = height\n",
        "\n",
        "  def get_height(self):\n",
        "    return self.__height\n",
        "  \n",
        "  def set_weight(self, weight):\n",
        "    self.__weight = weight\n",
        "\n",
        "  def get_weight(self):\n",
        "    return self.__weight\n",
        "  \n",
        "  def set_sound(self, sound):\n",
        "    self.__sound = sound\n",
        "\n",
        "  def get_sound(self):\n",
        "    return self.__sound\n",
        "\n",
        "  #get object type\n",
        "  def get_type(self):\n",
        "    print('Animal')\n",
        "\n",
        "  #return object attributes\n",
        "  def toString(self):\n",
        "    return '{} is {} cm tall and {} kilograms and says {}'.format(self.__name, self.__height, self.__weight, self.__sound)\n",
        "\n",
        "cat = Animal('Whiskers', 10, 33, 'Meow')\n",
        "print(cat.toString())"
      ],
      "metadata": {
        "colab": {
          "base_uri": "https://localhost:8080/"
        },
        "id": "atlvv_S0TjYr",
        "outputId": "9d558cb7-478b-4660-a5df-b3f0764f1776"
      },
      "execution_count": null,
      "outputs": [
        {
          "output_type": "stream",
          "name": "stdout",
          "text": [
            "Whiskers is 33 cm tall and 10 kilograms and says Meow\n"
          ]
        }
      ]
    },
    {
      "cell_type": "markdown",
      "source": [
        "#### Inheritance"
      ],
      "metadata": {
        "id": "c59Tn6FUe5QM"
      }
    },
    {
      "cell_type": "code",
      "source": [
        "class Dog(Animal):\n",
        "  #private variables\n",
        "  __owner = ''\n",
        "\n",
        "  def __init__(self, name, weight, height, sound, owner):\n",
        "    #call constructor of parent class\n",
        "    super().__init__(name, weight, height, sound)\n",
        "    self.__owner = owner\n",
        "\n",
        "  #setters and getters to access and modify private variables\n",
        "  def set_owner(self, owner):\n",
        "    self.__owner = owner\n",
        "  \n",
        "  def get_owner(self):\n",
        "    return self.__owner\n",
        "  \n",
        "  #return object attributes\n",
        "  def toString(self):\n",
        "    return super().toString() + ' and is owned by ' + self.__owner\n",
        "  \n",
        "  def multiple_sounds(self, how_many = None):\n",
        "    if how_many is None:\n",
        "      print(self.get_sound)\n",
        "    else:\n",
        "      print(super().get_sound() * how_many)\n",
        "\n",
        "  def get_type(self):\n",
        "    print('Dog')\n",
        "\n",
        "dog = Dog('Spot', 53, 27, 'Bark', 'Rob')\n",
        "print(dog.toString())\n",
        "print(dog.multiple_sounds(5))"
      ],
      "metadata": {
        "colab": {
          "base_uri": "https://localhost:8080/"
        },
        "id": "4n1jejOGWXqL",
        "outputId": "ab81f46a-ffd1-4f90-f84b-1b721ad3582d"
      },
      "execution_count": null,
      "outputs": [
        {
          "output_type": "stream",
          "name": "stdout",
          "text": [
            "Spot is 27 cm tall and 53 kilograms and says Bark and is owned by Rob\n",
            "BarkBarkBarkBarkBark\n",
            "None\n"
          ]
        }
      ]
    },
    {
      "cell_type": "markdown",
      "source": [
        "#### Polymorphism"
      ],
      "metadata": {
        "id": "SlLWKUiMe9Qs"
      }
    },
    {
      "cell_type": "code",
      "source": [
        "class AnimalTesting:\n",
        "  def get_type(self, animal):\n",
        "    animal.get_type()\n",
        "\n",
        "test_animals = AnimalTesting()\n",
        "\n",
        "#overriding of functions\n",
        "test_animals.get_type(cat)\n",
        "test_animals.get_type(dog)"
      ],
      "metadata": {
        "colab": {
          "base_uri": "https://localhost:8080/"
        },
        "id": "DZnp5Jp6YCG9",
        "outputId": "cac2b544-ca64-41d3-bb58-beb1f34d0da0"
      },
      "execution_count": null,
      "outputs": [
        {
          "output_type": "stream",
          "name": "stdout",
          "text": [
            "Animal\n",
            "Dog\n"
          ]
        }
      ]
    }
  ]
}
